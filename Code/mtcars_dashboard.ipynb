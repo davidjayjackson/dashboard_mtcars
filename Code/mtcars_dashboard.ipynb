{
  "cells": [
    {
      "cell_type": "raw",
      "metadata": {},
      "source": [
        "---\n",
        "title: Analysis of MtCars Data\n",
        "format: dashboard\n",
        "---"
      ],
      "id": "16d12989"
    },
    {
      "cell_type": "markdown",
      "metadata": {},
      "source": [
        "## Import Data: Mtcars\n"
      ],
      "id": "ec0c9bcb"
    },
    {
      "cell_type": "code",
      "metadata": {},
      "source": [
        "import pandas as pd\n",
        "import matplotlib.pyplot as plt\n",
        "import seaborn as sns\n",
        "\n",
        "cars = pd.read_csv('mtcars.csv')\n",
        "cars.describe()"
      ],
      "id": "3ece4b58",
      "execution_count": null,
      "outputs": []
    },
    {
      "cell_type": "markdown",
      "metadata": {},
      "source": [
        "## Horsepower vs. Miles Per Gallon\n"
      ],
      "id": "95f6969c"
    },
    {
      "cell_type": "code",
      "metadata": {},
      "source": [
        "import seaborn as sns\n",
        "import matplotlib.pyplot as plt\n",
        "\n",
        "# Setting the aesthetic style of the plots\n",
        "sns.set(style=\"whitegrid\")\n",
        "\n",
        "# Creating a scatter plot: Horsepower vs. Miles Per Gallon\n",
        "plt.figure(figsize=(10, 6))\n",
        "scatter_plot = sns.scatterplot(x='hp', y='mpg', data=cars)\n",
        "scatter_plot.set_title('Horsepower vs. Miles Per Gallon')\n",
        "scatter_plot.set_xlabel('Horsepower')\n",
        "scatter_plot.set_ylabel('Miles per Gallon')\n",
        "plt.show()"
      ],
      "id": "e93d734f",
      "execution_count": null,
      "outputs": []
    },
    {
      "cell_type": "markdown",
      "metadata": {},
      "source": [
        "## Distribution of MPG Across Different Numbers of Cylinders\n"
      ],
      "id": "2b9f56d1"
    },
    {
      "cell_type": "code",
      "metadata": {},
      "source": [
        "# Creating a boxplot: Distribution of MPG across different numbers of cylinders\n",
        "plt.figure(figsize=(10, 6))\n",
        "boxplot = sns.boxplot(x='cyl', y='mpg', data=cars)\n",
        "boxplot.set_title('Distribution of MPG Across Different Numbers of Cylinders')\n",
        "boxplot.set_xlabel('Number of Cylinders')\n",
        "boxplot.set_ylabel('Miles per Gallon')\n",
        "plt.show()"
      ],
      "id": "caf4fa20",
      "execution_count": null,
      "outputs": []
    },
    {
      "cell_type": "markdown",
      "metadata": {},
      "source": [
        "## Pairwise Relationships for MPG, Displacement, Horsepower, and Weight\n"
      ],
      "id": "f26dc9a9"
    },
    {
      "cell_type": "code",
      "metadata": {},
      "source": [
        "# Creating a pairplot for a subset of variables\n",
        "pairplot_vars = ['mpg', 'disp', 'hp', 'wt']\n",
        "pairplot = sns.pairplot(cars[pairplot_vars])\n",
        "pairplot.fig.suptitle('Pairwise Relationships for MPG, Displacement, Horsepower, and Weight', y=1.02)\n",
        "plt.show()"
      ],
      "id": "63613859",
      "execution_count": null,
      "outputs": []
    },
    {
      "cell_type": "markdown",
      "metadata": {},
      "source": [
        "## Distribution of Cars by Number of Gears\n"
      ],
      "id": "d2376cf0"
    },
    {
      "cell_type": "code",
      "metadata": {},
      "source": [
        "# Creating a count plot: Distribution of cars based on the number of gears\n",
        "plt.figure(figsize=(10, 6))\n",
        "count_plot = sns.countplot(x='gear', data=cars)\n",
        "count_plot.set_title('Distribution of Cars by Number of Gears')\n",
        "count_plot.set_xlabel('Number of Gears')\n",
        "count_plot.set_ylabel('Count of Cars')\n",
        "plt.show()"
      ],
      "id": "b12279f7",
      "execution_count": null,
      "outputs": []
    }
  ],
  "metadata": {
    "kernelspec": {
      "display_name": "Python 3",
      "language": "python",
      "name": "python3"
    }
  },
  "nbformat": 4,
  "nbformat_minor": 5
}